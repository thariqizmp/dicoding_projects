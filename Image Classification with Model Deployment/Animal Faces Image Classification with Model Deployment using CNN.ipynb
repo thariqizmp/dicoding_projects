{
  "nbformat": 4,
  "nbformat_minor": 0,
  "metadata": {
    "colab": {
      "name": "Proyek Akhir_Image Classification Model Deployment_Thariq Iskandar ZMP.ipynb",
      "provenance": [],
      "collapsed_sections": []
    },
    "kernelspec": {
      "name": "python3",
      "display_name": "Python 3"
    },
    "language_info": {
      "name": "python"
    }
  },
  "cells": [
    {
      "cell_type": "markdown",
      "metadata": {
        "id": "rEhKASWd4Zhr"
      },
      "source": [
        "# **Proyek Akhir : Image Classification Model Deployment**\n",
        "### Nama : Thariq Iskandar Zulkarnain M P\n",
        "### No. Pendaftaran : 0182180151-57\n",
        "### Email : thariqiskandar9@gmail.com\n",
        "### No. Handphone : 6281332409623\n",
        "### Tema Pelatihan : FGA Machine Learning (IBM)"
      ]
    },
    {
      "cell_type": "markdown",
      "metadata": {
        "id": "C3L1z3r0oWCe"
      },
      "source": [
        "# Import Library"
      ]
    },
    {
      "cell_type": "code",
      "metadata": {
        "id": "T634v4kPDFMJ"
      },
      "source": [
        "import os\n",
        "from sklearn.model_selection import train_test_split\n",
        "import shutil\n",
        "import tensorflow as tf\n",
        "from tensorflow.keras.preprocessing.image import ImageDataGenerator\n",
        "import matplotlib.pyplot as plt"
      ],
      "execution_count": 21,
      "outputs": []
    },
    {
      "cell_type": "markdown",
      "metadata": {
        "id": "DDVOVNmXom6x"
      },
      "source": [
        "# Input Data dari Kaggle\n",
        "### Dataset : Animal Faces\n",
        "### Link : https://www.kaggle.com/andrewmvd/animal-faces "
      ]
    },
    {
      "cell_type": "code",
      "metadata": {
        "id": "AfC0rIAp4ROi"
      },
      "source": [
        "! pip install -q kaggle"
      ],
      "execution_count": 2,
      "outputs": []
    },
    {
      "cell_type": "code",
      "metadata": {
        "colab": {
          "resources": {
            "http://localhost:8080/nbextensions/google.colab/files.js": {
              "data": "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",
              "ok": true,
              "headers": [
                [
                  "content-type",
                  "application/javascript"
                ]
              ],
              "status": 200,
              "status_text": ""
            }
          },
          "base_uri": "https://localhost:8080/",
          "height": 89
        },
        "id": "P0XhGg9VA0hK",
        "outputId": "7cf583df-0a82-4eeb-a0af-0127a8b0ff16"
      },
      "source": [
        "from google.colab import files\n",
        "\n",
        "files.upload()"
      ],
      "execution_count": 3,
      "outputs": [
        {
          "output_type": "display_data",
          "data": {
            "text/html": [
              "\n",
              "     <input type=\"file\" id=\"files-c8dc9f04-b9b8-4a01-aeed-77af1ebce5cb\" name=\"files[]\" multiple disabled\n",
              "        style=\"border:none\" />\n",
              "     <output id=\"result-c8dc9f04-b9b8-4a01-aeed-77af1ebce5cb\">\n",
              "      Upload widget is only available when the cell has been executed in the\n",
              "      current browser session. Please rerun this cell to enable.\n",
              "      </output>\n",
              "      <script src=\"/nbextensions/google.colab/files.js\"></script> "
            ],
            "text/plain": [
              "<IPython.core.display.HTML object>"
            ]
          },
          "metadata": {
            "tags": []
          }
        },
        {
          "output_type": "stream",
          "text": [
            "Saving kaggle.json to kaggle.json\n"
          ],
          "name": "stdout"
        },
        {
          "output_type": "execute_result",
          "data": {
            "text/plain": [
              "{'kaggle.json': b'{\"username\":\"thariqiskandarzmp\",\"key\":\"747e02d80ab399173c143f6694cb9ba1\"}'}"
            ]
          },
          "metadata": {
            "tags": []
          },
          "execution_count": 3
        }
      ]
    },
    {
      "cell_type": "code",
      "metadata": {
        "id": "2flg06MLBDOc"
      },
      "source": [
        "! mkdir ~/.kaggle\n",
        "\n",
        "! cp kaggle.json ~/.kaggle/"
      ],
      "execution_count": 4,
      "outputs": []
    },
    {
      "cell_type": "code",
      "metadata": {
        "id": "uAKdEHroBHe9"
      },
      "source": [
        "! chmod 600 ~/.kaggle/kaggle.json"
      ],
      "execution_count": 5,
      "outputs": []
    },
    {
      "cell_type": "code",
      "metadata": {
        "colab": {
          "base_uri": "https://localhost:8080/"
        },
        "id": "x5TuEaO1Bmmi",
        "outputId": "49a7076a-55de-47c0-9f60-3d2e84e9fb3e"
      },
      "source": [
        "! kaggle datasets download -d andrewmvd/animal-faces"
      ],
      "execution_count": 6,
      "outputs": [
        {
          "output_type": "stream",
          "text": [
            "Downloading animal-faces.zip to /content\n",
            " 99% 688M/696M [00:05<00:00, 129MB/s]\n",
            "100% 696M/696M [00:05<00:00, 136MB/s]\n"
          ],
          "name": "stdout"
        }
      ]
    },
    {
      "cell_type": "code",
      "metadata": {
        "id": "_3PZDOaop4Qv"
      },
      "source": [
        "!unzip -q animal-faces.zip -d ."
      ],
      "execution_count": 7,
      "outputs": []
    },
    {
      "cell_type": "markdown",
      "metadata": {
        "id": "cI5Ox-58v-OX"
      },
      "source": [
        "# Pembaharuan Jumlah Data Train dan Validation Sesuai Ratio"
      ]
    },
    {
      "cell_type": "markdown",
      "metadata": {
        "id": "6d2R3Sf_myNr"
      },
      "source": [
        "### Menghitung jumlah data train dan validation saat ini"
      ]
    },
    {
      "cell_type": "code",
      "metadata": {
        "colab": {
          "base_uri": "https://localhost:8080/"
        },
        "id": "0FV8EJvViL1w",
        "outputId": "b5cee890-5e2b-4bb7-bb23-6f6eb02b19de"
      },
      "source": [
        "# Mendefinisikan variabel yang diperlukan\n",
        "train_dir = '/content/afhq/train'\n",
        "val_dir = '/content/afhq/val'\n",
        "data_label = os.listdir(train_dir)\n",
        "class_total = len(data_label)\n",
        "\n",
        "train_label_dir = []\n",
        "val_label_dir = []\n",
        "train_label_data = []\n",
        "val_label_data = []\n",
        "\n",
        "for i in range(class_total):\n",
        "  # menyimpan path direktori setiap label dari data train dan validation\n",
        "  train_label_dir.append(os.path.join(train_dir, data_label[i]))\n",
        "  val_label_dir.append(os.path.join(val_dir, data_label[i]))\n",
        "  \n",
        "  # menyimpan keseluruhan data dari data train dan validation\n",
        "  for x in os.listdir(train_label_dir[i]):\n",
        "    train_label_data.append(x)\n",
        "  for y in os.listdir(val_label_dir[i]):\n",
        "    val_label_data.append(y)\n",
        "\n",
        "train_total = len(train_label_data)\n",
        "val_total = len(val_label_data)\n",
        "\n",
        "print('Jumlah data train saat ini :', train_total)\n",
        "print('Jumalh data validation saat ini :', val_total)"
      ],
      "execution_count": 10,
      "outputs": [
        {
          "output_type": "stream",
          "text": [
            "Jumlah data train saat ini : 14630\n",
            "Jumalh data validation saat ini : 1500\n"
          ],
          "name": "stdout"
        }
      ]
    },
    {
      "cell_type": "markdown",
      "metadata": {
        "id": "8iBQKJWEqgCr"
      },
      "source": [
        "### Menghitung jumlah data yang harus dipindahkan dari data train ke data validation"
      ]
    },
    {
      "cell_type": "code",
      "metadata": {
        "colab": {
          "base_uri": "https://localhost:8080/"
        },
        "id": "Fx-r-M32ovvn",
        "outputId": "bdeae7a1-db07-47a8-8c9a-0d194eebda4e"
      },
      "source": [
        "correct_total_val_data = 0.2*(train_total + val_total)\n",
        "print('Jumlah data validation seharusnya(20%) :', correct_total_val_data)\n",
        "\n",
        "lack_val_data = (correct_total_val_data - val_total)\n",
        "print('Jumlah data yang harus dipindahkan dari data train :', lack_val_data)\n",
        "\n",
        "percentage_from_train_data = (lack_val_data / train_total)\n",
        "print('Persentase yang diperlukan dari train data untuk menambah val data :', percentage_from_train_data)"
      ],
      "execution_count": 11,
      "outputs": [
        {
          "output_type": "stream",
          "text": [
            "Jumlah data validation seharusnya(20%) : 3226.0\n",
            "Jumlah data yang harus dipindahkan dari data train : 1726.0\n",
            "Persentase yang diperlukan dari train data untuk menambah val data : 0.11797676008202324\n"
          ],
          "name": "stdout"
        }
      ]
    },
    {
      "cell_type": "markdown",
      "metadata": {
        "id": "gnRP2r-7qxBo"
      },
      "source": [
        "### Memecah data train untuk dipindahkan ke data validation"
      ]
    },
    {
      "cell_type": "code",
      "metadata": {
        "colab": {
          "base_uri": "https://localhost:8080/"
        },
        "id": "m6_4rzV_sSU8",
        "outputId": "b12de53d-d199-4770-f534-7bf1825b3afa"
      },
      "source": [
        "# Mendefinisikan variabel yang diperlukan\n",
        "train_data = []\n",
        "val_data = []\n",
        "sum_train = 0\n",
        "sum_val = 0\n",
        "\n",
        "for i in range(class_total):\n",
        "  train = []\n",
        "  val = []\n",
        "\n",
        "  # memecah data train dari setiap label dengan persentase yang telah diperoleh\n",
        "  train, val = train_test_split(os.listdir(train_label_dir[i]), test_size = percentage_from_train_data)\n",
        "  train_data.append(train)\n",
        "  val_data.append(val)\n",
        "\n",
        "  # jumlah total data train baru dan data validation yang akan dipindah\n",
        "  sum_train += len(train_data[i])\n",
        "  sum_val += len(val_data[i])\n",
        "\n",
        "print('Jumlah train data baru : ' + str(sum_train))\n",
        "print('Jumlah validation data yang akan dipindahkan : ' + str(sum_val))"
      ],
      "execution_count": 12,
      "outputs": [
        {
          "output_type": "stream",
          "text": [
            "Jumlah train data baru : 12903\n",
            "Jumlah validation data yang akan dipindahkan : 1727\n"
          ],
          "name": "stdout"
        }
      ]
    },
    {
      "cell_type": "markdown",
      "metadata": {
        "id": "T8LZ6Xa2rnPA"
      },
      "source": [
        "### Memindahkan data validation baru ke direktori data validation lama"
      ]
    },
    {
      "cell_type": "code",
      "metadata": {
        "colab": {
          "base_uri": "https://localhost:8080/"
        },
        "id": "u0eb2QZjtcbj",
        "outputId": "ac515548-6835-4cb3-f2aa-376f68241ced"
      },
      "source": [
        "new_sum_val = 0\n",
        "for i in range(class_total):\n",
        "  for x in val_data[i]:\n",
        "    shutil.move(os.path.join(train_label_dir[i], x), os.path.join(val_label_dir[i], x))\n",
        "  new_sum_val += len(os.listdir(val_label_dir[i]))\n",
        "print('Jumlah data validation yang baru :', new_sum_val)"
      ],
      "execution_count": 13,
      "outputs": [
        {
          "output_type": "stream",
          "text": [
            "Jumlah data validation yang baru : 3227\n"
          ],
          "name": "stdout"
        }
      ]
    },
    {
      "cell_type": "markdown",
      "metadata": {
        "id": "B9Ba-RzOsiLL"
      },
      "source": [
        "Jumlah data validation sudah sesuai harapan, hanya berbeda 1 data saja dari perhitungan yang telah dilakukan sebelumnya"
      ]
    },
    {
      "cell_type": "markdown",
      "metadata": {
        "id": "VLml0x9dmYVk"
      },
      "source": [
        "# Data Preprocessing"
      ]
    },
    {
      "cell_type": "code",
      "metadata": {
        "id": "g50XP8gqmCko"
      },
      "source": [
        "# membuat sebuah objek ImageDataGenerator untuk data train dan validation\n",
        "train_datagen = ImageDataGenerator(\n",
        "                    rescale=1./255,\n",
        "                    horizontal_flip=True,\n",
        "                    zoom_range=0.2,\n",
        "                    shear_range = 0.2,\n",
        "                    fill_mode = 'nearest')\n",
        "\n",
        "test_datagen = ImageDataGenerator(rescale=1./255)"
      ],
      "execution_count": 14,
      "outputs": []
    },
    {
      "cell_type": "code",
      "metadata": {
        "colab": {
          "base_uri": "https://localhost:8080/"
        },
        "id": "ZzchumPSyTXM",
        "outputId": "e251a7fd-ac83-4703-8d69-dd9c5d786fe1"
      },
      "source": [
        "# mempersiapkan data train dan validation yang akan dipelajari oleh model menggunakan objek image data generator sebelumnya\n",
        "train_generator = train_datagen.flow_from_directory(\n",
        "        train_dir,\n",
        "        target_size=(150, 150),  # mengubah resolusi seluruh gambar menjadi 150x150 piksel\n",
        "        batch_size=32,\n",
        "        class_mode='categorical') # menggunakan class_mode = 'categorical' karena kasus lebih dari 2 kelas\n",
        "\n",
        "validation_generator = test_datagen.flow_from_directory(\n",
        "        val_dir,\n",
        "        target_size=(150, 150), # mengubah resolusi seluruh gambar menjadi 150x150 piksel\n",
        "        batch_size=32, \n",
        "        class_mode='categorical') # menggunakan class_mode = 'categorical' karena kasus lebih dari 2 kelas"
      ],
      "execution_count": 15,
      "outputs": [
        {
          "output_type": "stream",
          "text": [
            "Found 12903 images belonging to 3 classes.\n",
            "Found 3227 images belonging to 3 classes.\n"
          ],
          "name": "stdout"
        }
      ]
    },
    {
      "cell_type": "markdown",
      "metadata": {
        "id": "90uTfkO11QH9"
      },
      "source": [
        "# Model Convolutional Neural Network"
      ]
    },
    {
      "cell_type": "code",
      "metadata": {
        "id": "zgIfNz5f4ViA"
      },
      "source": [
        "#membuat kelas callback\n",
        "class myCallback(tf.keras.callbacks.Callback):\n",
        "  def on_epoch_end(self, epoch, logs={}):\n",
        "    if(logs.get('accuracy')>0.92 and logs.get('val_accuracy')>0.92):\n",
        "      print(\"\\nAkurasi training set dan validation set telah mencapai >92%!\")\n",
        "      self.model.stop_training = True\n",
        "callbacks = myCallback()"
      ],
      "execution_count": 16,
      "outputs": []
    },
    {
      "cell_type": "code",
      "metadata": {
        "id": "FSJdrMvU1PZR"
      },
      "source": [
        "# membuat arsitektur CNN\n",
        "model = tf.keras.models.Sequential([\n",
        "    # input shape adalah ukuran gambar yang diinginkan 150x150 dengan warna 3 byte\n",
        "    tf.keras.layers.Conv2D(64, (3,3), activation='relu', input_shape=(150, 150, 3)),\n",
        "    tf.keras.layers.MaxPooling2D(2,2),\n",
        "    tf.keras.layers.Conv2D(32, (3,3), activation='relu'),\n",
        "    tf.keras.layers.MaxPooling2D(2,2),\n",
        "    tf.keras.layers.Dropout(0.4),  \n",
        "    tf.keras.layers.Conv2D(64, (3,3), activation='relu'), \n",
        "    tf.keras.layers.MaxPooling2D(2,2),\n",
        "    tf.keras.layers.Dropout(0.4),  \n",
        "    # Ratakan hasil untuk dimasukkan ke dalam DNN\n",
        "    tf.keras.layers.Flatten(), \n",
        "    # hidden layer\n",
        "    tf.keras.layers.Dense(512, activation='relu'),\n",
        "    tf.keras.layers.Dropout(0.5),\n",
        "    tf.keras.layers.Dense(256, activation='relu'),\n",
        "    tf.keras.layers.Dropout(0.5),\n",
        "    # output layer\n",
        "    tf.keras.layers.Dense(3, activation='softmax')  # dataset terdiri dari 3 kelas\n",
        "])"
      ],
      "execution_count": 17,
      "outputs": []
    },
    {
      "cell_type": "code",
      "metadata": {
        "id": "SeNk7Y5w3pFW"
      },
      "source": [
        "# compile model dengan optimizer 'adam' dan loss function 'categorical_crossentropy'\n",
        "model.compile(optimizer=tf.keras.optimizers.Adam(),\n",
        "              loss='categorical_crossentropy',\n",
        "              metrics=['accuracy'])"
      ],
      "execution_count": 18,
      "outputs": []
    },
    {
      "cell_type": "code",
      "metadata": {
        "colab": {
          "base_uri": "https://localhost:8080/"
        },
        "id": "A8X-f-O835RN",
        "outputId": "7129d426-41d5-4746-9d47-cb8eb92418d0"
      },
      "source": [
        "# latih model\n",
        "history = model.fit(\n",
        "      train_generator,\n",
        "      batch_size=128,\n",
        "      steps_per_epoch=100,  # berapa batch yang akan dieksekusi pada setiap epoch\n",
        "      epochs=30,\n",
        "      callbacks=[callbacks],\n",
        "      validation_data=validation_generator, # menampilkan akurasi pengujian data validasi\n",
        "      validation_steps=5,  # berapa batch yang akan dieksekusi pada setiap epoch\n",
        "      verbose=2)"
      ],
      "execution_count": 19,
      "outputs": [
        {
          "output_type": "stream",
          "text": [
            "Epoch 1/30\n",
            "100/100 - 154s - loss: 1.1145 - accuracy: 0.3525 - val_loss: 1.0710 - val_accuracy: 0.3562\n",
            "Epoch 2/30\n",
            "100/100 - 152s - loss: 0.9235 - accuracy: 0.5478 - val_loss: 0.5263 - val_accuracy: 0.8062\n",
            "Epoch 3/30\n",
            "100/100 - 153s - loss: 0.5876 - accuracy: 0.7681 - val_loss: 0.5482 - val_accuracy: 0.7437\n",
            "Epoch 4/30\n",
            "100/100 - 151s - loss: 0.4475 - accuracy: 0.8277 - val_loss: 0.3905 - val_accuracy: 0.8188\n",
            "Epoch 5/30\n",
            "100/100 - 152s - loss: 0.4744 - accuracy: 0.8069 - val_loss: 0.4237 - val_accuracy: 0.8500\n",
            "Epoch 6/30\n",
            "100/100 - 152s - loss: 0.3714 - accuracy: 0.8597 - val_loss: 0.3256 - val_accuracy: 0.9000\n",
            "Epoch 7/30\n",
            "100/100 - 152s - loss: 0.3486 - accuracy: 0.8675 - val_loss: 0.2845 - val_accuracy: 0.8750\n",
            "Epoch 8/30\n",
            "100/100 - 151s - loss: 0.2786 - accuracy: 0.8976 - val_loss: 0.3052 - val_accuracy: 0.8938\n",
            "Epoch 9/30\n",
            "100/100 - 152s - loss: 0.2942 - accuracy: 0.8878 - val_loss: 0.2065 - val_accuracy: 0.9375\n",
            "Epoch 10/30\n",
            "100/100 - 150s - loss: 0.2862 - accuracy: 0.8932 - val_loss: 0.2899 - val_accuracy: 0.8750\n",
            "Epoch 11/30\n",
            "100/100 - 151s - loss: 0.2344 - accuracy: 0.9122 - val_loss: 0.2058 - val_accuracy: 0.9375\n",
            "Epoch 12/30\n",
            "100/100 - 150s - loss: 0.2601 - accuracy: 0.9020 - val_loss: 0.3195 - val_accuracy: 0.8813\n",
            "Epoch 13/30\n",
            "100/100 - 150s - loss: 0.2546 - accuracy: 0.9052 - val_loss: 0.2200 - val_accuracy: 0.9125\n",
            "Epoch 14/30\n",
            "100/100 - 151s - loss: 0.2265 - accuracy: 0.9150 - val_loss: 0.2242 - val_accuracy: 0.9000\n",
            "Epoch 15/30\n",
            "100/100 - 151s - loss: 0.2064 - accuracy: 0.9234 - val_loss: 0.2284 - val_accuracy: 0.9125\n",
            "Epoch 16/30\n",
            "100/100 - 151s - loss: 0.2028 - accuracy: 0.9250 - val_loss: 0.2312 - val_accuracy: 0.9000\n",
            "Epoch 17/30\n",
            "100/100 - 150s - loss: 0.1973 - accuracy: 0.9307 - val_loss: 0.3151 - val_accuracy: 0.9000\n",
            "Epoch 18/30\n",
            "100/100 - 151s - loss: 0.2015 - accuracy: 0.9262 - val_loss: 0.1929 - val_accuracy: 0.9438\n",
            "\n",
            "Akurasi training set dan validation set telah mencapai >92%!\n"
          ],
          "name": "stdout"
        }
      ]
    },
    {
      "cell_type": "markdown",
      "metadata": {
        "id": "71Oj3c-_u65q"
      },
      "source": [
        "# Plot Loss & Accuracy"
      ]
    },
    {
      "cell_type": "code",
      "metadata": {
        "colab": {
          "base_uri": "https://localhost:8080/",
          "height": 294
        },
        "id": "wHtkAOYouq8t",
        "outputId": "3b5738d2-d2e1-46d8-d4dd-5dfe5b0aa72d"
      },
      "source": [
        "#plot train & validation loss\n",
        "plt.plot(history.history['loss'], label='Training Loss')\n",
        "plt.plot(history.history['val_loss'], label='Validation Loss')\n",
        "plt.title('Loss Plot')\n",
        "plt.ylabel('Value')\n",
        "plt.xlabel('Epoch')\n",
        "plt.legend(loc=\"upper right\")\n",
        "plt.show()"
      ],
      "execution_count": 22,
      "outputs": [
        {
          "output_type": "display_data",
          "data": {
            "image/png": "[encoded data removed]",
            "text/plain": [
              "<Figure size 432x288 with 1 Axes>"
            ]
          },
          "metadata": {
            "tags": [],
            "needs_background": "light"
          }
        }
      ]
    },
    {
      "cell_type": "code",
      "metadata": {
        "colab": {
          "base_uri": "https://localhost:8080/",
          "height": 294
        },
        "id": "EKoBKZ09u34R",
        "outputId": "dd4aec31-1016-4bb5-ea85-5c5e22d34b8d"
      },
      "source": [
        "#plot train & validation accuracy\n",
        "plt.plot(history.history['accuracy'], label='Training Accuracy')\n",
        "plt.plot(history.history['val_accuracy'], label='Validation Accuracy')\n",
        "plt.title('Accuracy Plot')\n",
        "plt.ylabel('Value')\n",
        "plt.xlabel('Epoch')\n",
        "plt.legend(loc=\"lower right\")\n",
        "plt.show()"
      ],
      "execution_count": 23,
      "outputs": [
        {
          "output_type": "display_data",
          "data": {
            "image/png": "[encoded data removed]",
            "text/plain": [
              "<Figure size 432x288 with 1 Axes>"
            ]
          },
          "metadata": {
            "tags": [],
            "needs_background": "light"
          }
        }
      ]
    },
    {
      "cell_type": "markdown",
      "metadata": {
        "id": "hKoZJnQf-Rr7"
      },
      "source": [
        "# Simpan Model ke Dalam Format TF-Lite"
      ]
    },
    {
      "cell_type": "code",
      "metadata": {
        "colab": {
          "base_uri": "https://localhost:8080/"
        },
        "id": "caL0b-9M-Pq9",
        "outputId": "e9ee6e62-98b7-4887-978d-8b4703c0a2a0"
      },
      "source": [
        "# Convert the model.\n",
        "converter = tf.lite.TFLiteConverter.from_keras_model(model)\n",
        "tflite_model = converter.convert()\n",
        "\n",
        "# Save the TF Lite model.\n",
        "with tf.io.gfile.GFile('AF_model.tflite', 'wb') as f:\n",
        "  f.write(tflite_model)"
      ],
      "execution_count": 24,
      "outputs": [
        {
          "output_type": "stream",
          "text": [
            "INFO:tensorflow:Assets written to: /tmp/tmpe1vg7db8/assets\n"
          ],
          "name": "stdout"
        }
      ]
    }
  ]
}