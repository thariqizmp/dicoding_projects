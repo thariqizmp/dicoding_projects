{
  "nbformat": 4,
  "nbformat_minor": 0,
  "metadata": {
    "colab": {
      "name": "Proyek Kedua_Membuat Model Machine Learning dengan Data Time Series_Thariq Iskandar ZMP.ipynb",
      "provenance": []
    },
    "kernelspec": {
      "name": "python3",
      "display_name": "Python 3"
    },
    "language_info": {
      "name": "python"
    }
  },
  "cells": [
    {
      "cell_type": "markdown",
      "metadata": {
        "id": "Q4tjbwzpyq6S"
      },
      "source": [
        "# **Proyek Kedua : Membuat Model Machine Learning dengan Data Time Series**\n",
        "### Nama : Thariq Iskandar Zulkarnain M P\n",
        "### No. Pendaftaran : 0182180151-57\n",
        "### Email : thariqiskandar9@gmail.com\n",
        "### No. Handphone : 6281332409623\n",
        "### Tema Pelatihan : FGA Machine Learning (IBM)"
      ]
    },
    {
      "cell_type": "code",
      "metadata": {
        "id": "6JS6jwyFx78B"
      },
      "source": [
        "import numpy as np\n",
        "import pandas as pd\n",
        "import matplotlib.pyplot as plt\n",
        "import tensorflow as tf\n",
        "from sklearn.model_selection import train_test_split"
      ],
      "execution_count": 1,
      "outputs": []
    },
    {
      "cell_type": "code",
      "metadata": {
        "id": "MLFMlIudIadn"
      },
      "source": [
        "#membuat kelas callback\n",
        "class myCallback(tf.keras.callbacks.Callback):\n",
        "  def on_epoch_end(self, epoch, logs={}):\n",
        "    if(logs.get('mae')< x and logs.get('val_mae')< x):\n",
        "      self.model.stop_training = True\n",
        "      print(\"\\nmodel memiliki mae dan val_mae < 10% dari skala data\")\n",
        "callbacks = myCallback()"
      ],
      "execution_count": 2,
      "outputs": []
    },
    {
      "cell_type": "code",
      "metadata": {
        "colab": {
          "base_uri": "https://localhost:8080/",
          "height": 424
        },
        "id": "J7LmKDSRvsMa",
        "outputId": "ae351b37-083f-4dff-9002-dc49befac4dd"
      },
      "source": [
        "#input dataset harga saham AABA dari tahun 2006 sampai 2018\n",
        "df = pd.read_csv('AABA_2006-01-01_to_2018-01-01.csv')\n",
        "df"
      ],
      "execution_count": 3,
      "outputs": [
        {
          "output_type": "execute_result",
          "data": {
            "text/html": [
              "<div>\n",
              "<style scoped>\n",
              "    .dataframe tbody tr th:only-of-type {\n",
              "        vertical-align: middle;\n",
              "    }\n",
              "\n",
              "    .dataframe tbody tr th {\n",
              "        vertical-align: top;\n",
              "    }\n",
              "\n",
              "    .dataframe thead th {\n",
              "        text-align: right;\n",
              "    }\n",
              "</style>\n",
              "<table border=\"1\" class=\"dataframe\">\n",
              "  <thead>\n",
              "    <tr style=\"text-align: right;\">\n",
              "      <th></th>\n",
              "      <th>Date</th>\n",
              "      <th>Open</th>\n",
              "      <th>High</th>\n",
              "      <th>Low</th>\n",
              "      <th>Close</th>\n",
              "      <th>Volume</th>\n",
              "      <th>Name</th>\n",
              "    </tr>\n",
              "  </thead>\n",
              "  <tbody>\n",
              "    <tr>\n",
              "      <th>0</th>\n",
              "      <td>2006-01-03</td>\n",
              "      <td>39.69</td>\n",
              "      <td>41.22</td>\n",
              "      <td>38.79</td>\n",
              "      <td>40.91</td>\n",
              "      <td>24232729</td>\n",
              "      <td>AABA</td>\n",
              "    </tr>\n",
              "    <tr>\n",
              "      <th>1</th>\n",
              "      <td>2006-01-04</td>\n",
              "      <td>41.22</td>\n",
              "      <td>41.90</td>\n",
              "      <td>40.77</td>\n",
              "      <td>40.97</td>\n",
              "      <td>20553479</td>\n",
              "      <td>AABA</td>\n",
              "    </tr>\n",
              "    <tr>\n",
              "      <th>2</th>\n",
              "      <td>2006-01-05</td>\n",
              "      <td>40.93</td>\n",
              "      <td>41.73</td>\n",
              "      <td>40.85</td>\n",
              "      <td>41.53</td>\n",
              "      <td>12829610</td>\n",
              "      <td>AABA</td>\n",
              "    </tr>\n",
              "    <tr>\n",
              "      <th>3</th>\n",
              "      <td>2006-01-06</td>\n",
              "      <td>42.88</td>\n",
              "      <td>43.57</td>\n",
              "      <td>42.80</td>\n",
              "      <td>43.21</td>\n",
              "      <td>29422828</td>\n",
              "      <td>AABA</td>\n",
              "    </tr>\n",
              "    <tr>\n",
              "      <th>4</th>\n",
              "      <td>2006-01-09</td>\n",
              "      <td>43.10</td>\n",
              "      <td>43.66</td>\n",
              "      <td>42.82</td>\n",
              "      <td>43.42</td>\n",
              "      <td>16268338</td>\n",
              "      <td>AABA</td>\n",
              "    </tr>\n",
              "    <tr>\n",
              "      <th>...</th>\n",
              "      <td>...</td>\n",
              "      <td>...</td>\n",
              "      <td>...</td>\n",
              "      <td>...</td>\n",
              "      <td>...</td>\n",
              "      <td>...</td>\n",
              "      <td>...</td>\n",
              "    </tr>\n",
              "    <tr>\n",
              "      <th>3014</th>\n",
              "      <td>2017-12-22</td>\n",
              "      <td>71.42</td>\n",
              "      <td>71.87</td>\n",
              "      <td>71.22</td>\n",
              "      <td>71.58</td>\n",
              "      <td>10979165</td>\n",
              "      <td>AABA</td>\n",
              "    </tr>\n",
              "    <tr>\n",
              "      <th>3015</th>\n",
              "      <td>2017-12-26</td>\n",
              "      <td>70.94</td>\n",
              "      <td>71.39</td>\n",
              "      <td>69.63</td>\n",
              "      <td>69.86</td>\n",
              "      <td>8542802</td>\n",
              "      <td>AABA</td>\n",
              "    </tr>\n",
              "    <tr>\n",
              "      <th>3016</th>\n",
              "      <td>2017-12-27</td>\n",
              "      <td>69.77</td>\n",
              "      <td>70.49</td>\n",
              "      <td>69.69</td>\n",
              "      <td>70.06</td>\n",
              "      <td>6345124</td>\n",
              "      <td>AABA</td>\n",
              "    </tr>\n",
              "    <tr>\n",
              "      <th>3017</th>\n",
              "      <td>2017-12-28</td>\n",
              "      <td>70.12</td>\n",
              "      <td>70.32</td>\n",
              "      <td>69.51</td>\n",
              "      <td>69.82</td>\n",
              "      <td>7556877</td>\n",
              "      <td>AABA</td>\n",
              "    </tr>\n",
              "    <tr>\n",
              "      <th>3018</th>\n",
              "      <td>2017-12-29</td>\n",
              "      <td>69.79</td>\n",
              "      <td>70.13</td>\n",
              "      <td>69.43</td>\n",
              "      <td>69.85</td>\n",
              "      <td>6613070</td>\n",
              "      <td>AABA</td>\n",
              "    </tr>\n",
              "  </tbody>\n",
              "</table>\n",
              "<p>3019 rows × 7 columns</p>\n",
              "</div>"
            ],
            "text/plain": [
              "            Date   Open   High    Low  Close    Volume  Name\n",
              "0     2006-01-03  39.69  41.22  38.79  40.91  24232729  AABA\n",
              "1     2006-01-04  41.22  41.90  40.77  40.97  20553479  AABA\n",
              "2     2006-01-05  40.93  41.73  40.85  41.53  12829610  AABA\n",
              "3     2006-01-06  42.88  43.57  42.80  43.21  29422828  AABA\n",
              "4     2006-01-09  43.10  43.66  42.82  43.42  16268338  AABA\n",
              "...          ...    ...    ...    ...    ...       ...   ...\n",
              "3014  2017-12-22  71.42  71.87  71.22  71.58  10979165  AABA\n",
              "3015  2017-12-26  70.94  71.39  69.63  69.86   8542802  AABA\n",
              "3016  2017-12-27  69.77  70.49  69.69  70.06   6345124  AABA\n",
              "3017  2017-12-28  70.12  70.32  69.51  69.82   7556877  AABA\n",
              "3018  2017-12-29  69.79  70.13  69.43  69.85   6613070  AABA\n",
              "\n",
              "[3019 rows x 7 columns]"
            ]
          },
          "metadata": {
            "tags": []
          },
          "execution_count": 3
        }
      ]
    },
    {
      "cell_type": "code",
      "metadata": {
        "colab": {
          "base_uri": "https://localhost:8080/"
        },
        "id": "hyljEE3cwg6z",
        "outputId": "dbd0272d-3d49-47ae-9cc2-d31a68ed9edc"
      },
      "source": [
        "#meilhat apakah ada data yang hilang dari dataset\n",
        "df.isnull().sum()"
      ],
      "execution_count": 4,
      "outputs": [
        {
          "output_type": "execute_result",
          "data": {
            "text/plain": [
              "Date      0\n",
              "Open      0\n",
              "High      0\n",
              "Low       0\n",
              "Close     0\n",
              "Volume    0\n",
              "Name      0\n",
              "dtype: int64"
            ]
          },
          "metadata": {
            "tags": []
          },
          "execution_count": 4
        }
      ]
    },
    {
      "cell_type": "code",
      "metadata": {
        "colab": {
          "base_uri": "https://localhost:8080/",
          "height": 341
        },
        "id": "kJTbgmITwnqT",
        "outputId": "e6e739f6-dda3-4079-e14c-27e336a0582c"
      },
      "source": [
        "date = df['Date'].values\n",
        "close  = df['Close'].values #pada kasus ini digunakan harga penutupan / close price\n",
        " \n",
        "#membuat plot dari data \n",
        "plt.figure(figsize=(15,5))\n",
        "plt.plot(date, close)\n",
        "plt.title('Close Price',\n",
        "          fontsize=20);"
      ],
      "execution_count": 5,
      "outputs": [
        {
          "output_type": "display_data",
          "data": {
            "image/png": "[encoded data removed]",
            "text/plain": [
              "<Figure size 1080x360 with 1 Axes>"
            ]
          },
          "metadata": {
            "tags": [],
            "needs_background": "light"
          }
        }
      ]
    },
    {
      "cell_type": "code",
      "metadata": {
        "id": "tMxdESkoEEBw"
      },
      "source": [
        "#membuat fungsi window\n",
        "def windowed_dataset(series, window_size, batch_size, shuffle_buffer):\n",
        "    series = tf.expand_dims(series, axis=-1)\n",
        "    ds = tf.data.Dataset.from_tensor_slices(series)\n",
        "    ds = ds.window(window_size + 1, shift=1, drop_remainder=True)\n",
        "    ds = ds.flat_map(lambda w: w.batch(window_size + 1))\n",
        "    ds = ds.shuffle(shuffle_buffer)\n",
        "    ds = ds.map(lambda w: (w[:-1], w[-1:]))\n",
        "    return ds.batch(batch_size).prefetch(1)"
      ],
      "execution_count": 6,
      "outputs": []
    },
    {
      "cell_type": "code",
      "metadata": {
        "id": "WxhDiEyFF2Zp"
      },
      "source": [
        "#split dataset dengan ratio 80:20\n",
        "close_train, close_test, date_train, date_test = train_test_split(close, date, test_size = 0.2, random_state = 0 , shuffle=False)"
      ],
      "execution_count": 7,
      "outputs": []
    },
    {
      "cell_type": "code",
      "metadata": {
        "id": "7hNquPeYHFRY"
      },
      "source": [
        "#memanggil fungsi window untuk membagi data menjadi atribut dan label\n",
        "data_close_train = windowed_dataset(close_train, window_size=60, batch_size=100, shuffle_buffer=5000)\n",
        "data_close_test = windowed_dataset(close_test, window_size=60, batch_size=100, shuffle_buffer=5000)"
      ],
      "execution_count": 8,
      "outputs": []
    },
    {
      "cell_type": "code",
      "metadata": {
        "id": "3vGgo1QsHWbl"
      },
      "source": [
        "#membangun arsitektur neural network\n",
        "model = tf.keras.models.Sequential([\n",
        "  tf.keras.layers.LSTM(60, return_sequences=True),\n",
        "  tf.keras.layers.LSTM(60),\n",
        "  tf.keras.layers.Dense(30, activation=\"relu\"),\n",
        "  tf.keras.layers.Dense(10, activation=\"relu\"),\n",
        "  tf.keras.layers.Dense(1),\n",
        "])"
      ],
      "execution_count": 9,
      "outputs": []
    },
    {
      "cell_type": "code",
      "metadata": {
        "colab": {
          "base_uri": "https://localhost:8080/"
        },
        "id": "Fw6QxzwBJjC6",
        "outputId": "136a73b9-cd09-45cd-a98d-10dcc060499e"
      },
      "source": [
        "#menentukan batas nilai 10% dari skala data untuk parameter callback\n",
        "x = (close.max() - close.min()) * (10 / 100)\n",
        "print(x)"
      ],
      "execution_count": 10,
      "outputs": [
        {
          "output_type": "stream",
          "text": [
            "6.398000000000001\n"
          ],
          "name": "stdout"
        }
      ]
    },
    {
      "cell_type": "code",
      "metadata": {
        "colab": {
          "base_uri": "https://localhost:8080/"
        },
        "id": "P0v7pxaaHy4G",
        "outputId": "4eef1722-cc93-4645-9e55-e3131545af8a"
      },
      "source": [
        "#menggunakan parameter learning rate dan momentum pada optimizer\n",
        "optimizer = tf.keras.optimizers.SGD(learning_rate=1.0000e-04, momentum=0.9)\n",
        "\n",
        "#melakukan compile pada model\n",
        "model.compile(loss=tf.keras.losses.Huber(),\n",
        "              optimizer=optimizer,\n",
        "              metrics=[\"mae\"])\n",
        "\n",
        "#latih model dengan jumlah epoch 100\n",
        "history = model.fit(data_close_train,\n",
        "                    epochs=100, \n",
        "                    validation_data=data_close_test, \n",
        "                    callbacks=[callbacks])"
      ],
      "execution_count": 11,
      "outputs": [
        {
          "output_type": "stream",
          "text": [
            "Epoch 1/100\n",
            "24/24 [==============================] - 8s 170ms/step - loss: 23.6893 - mae: 24.1893 - val_loss: 45.5424 - val_mae: 46.0424\n",
            "Epoch 2/100\n",
            "24/24 [==============================] - 3s 107ms/step - loss: 23.5758 - mae: 24.0758 - val_loss: 45.4883 - val_mae: 45.9883\n",
            "Epoch 3/100\n",
            "24/24 [==============================] - 3s 109ms/step - loss: 23.5118 - mae: 24.0118 - val_loss: 45.4259 - val_mae: 45.9259\n",
            "Epoch 4/100\n",
            "24/24 [==============================] - 3s 107ms/step - loss: 23.4665 - mae: 23.9665 - val_loss: 45.3805 - val_mae: 45.8805\n",
            "Epoch 5/100\n",
            "24/24 [==============================] - 3s 108ms/step - loss: 23.4227 - mae: 23.9227 - val_loss: 45.3372 - val_mae: 45.8372\n",
            "Epoch 6/100\n",
            "24/24 [==============================] - 3s 109ms/step - loss: 23.3772 - mae: 23.8772 - val_loss: 45.2897 - val_mae: 45.7897\n",
            "Epoch 7/100\n",
            "24/24 [==============================] - 3s 108ms/step - loss: 23.3281 - mae: 23.8281 - val_loss: 45.2360 - val_mae: 45.7360\n",
            "Epoch 8/100\n",
            "24/24 [==============================] - 3s 109ms/step - loss: 23.2734 - mae: 23.7734 - val_loss: 45.1761 - val_mae: 45.6761\n",
            "Epoch 9/100\n",
            "24/24 [==============================] - 3s 108ms/step - loss: 23.2114 - mae: 23.7114 - val_loss: 45.1088 - val_mae: 45.6088\n",
            "Epoch 10/100\n",
            "24/24 [==============================] - 3s 109ms/step - loss: 23.1399 - mae: 23.6399 - val_loss: 45.0304 - val_mae: 45.5304\n",
            "Epoch 11/100\n",
            "24/24 [==============================] - 3s 112ms/step - loss: 23.0575 - mae: 23.5575 - val_loss: 44.9386 - val_mae: 45.4386\n",
            "Epoch 12/100\n",
            "24/24 [==============================] - 3s 108ms/step - loss: 22.9620 - mae: 23.4620 - val_loss: 44.8278 - val_mae: 45.3278\n",
            "Epoch 13/100\n",
            "24/24 [==============================] - 3s 107ms/step - loss: 22.8464 - mae: 23.3464 - val_loss: 44.6915 - val_mae: 45.1915\n",
            "Epoch 14/100\n",
            "24/24 [==============================] - 3s 111ms/step - loss: 22.7037 - mae: 23.2037 - val_loss: 44.5210 - val_mae: 45.0210\n",
            "Epoch 15/100\n",
            "24/24 [==============================] - 3s 110ms/step - loss: 22.5272 - mae: 23.0272 - val_loss: 44.3107 - val_mae: 44.8107\n",
            "Epoch 16/100\n",
            "24/24 [==============================] - 4s 163ms/step - loss: 22.3070 - mae: 22.8070 - val_loss: 44.0520 - val_mae: 44.5520\n",
            "Epoch 17/100\n",
            "24/24 [==============================] - 4s 142ms/step - loss: 22.0289 - mae: 22.5289 - val_loss: 43.7281 - val_mae: 44.2281\n",
            "Epoch 18/100\n",
            "24/24 [==============================] - 3s 108ms/step - loss: 21.6712 - mae: 22.1712 - val_loss: 43.3153 - val_mae: 43.8153\n",
            "Epoch 19/100\n",
            "24/24 [==============================] - 3s 108ms/step - loss: 21.2021 - mae: 21.7021 - val_loss: 42.7719 - val_mae: 43.2719\n",
            "Epoch 20/100\n",
            "24/24 [==============================] - 3s 111ms/step - loss: 20.5721 - mae: 21.0721 - val_loss: 42.0342 - val_mae: 42.5342\n",
            "Epoch 21/100\n",
            "24/24 [==============================] - 3s 109ms/step - loss: 19.7012 - mae: 20.2012 - val_loss: 40.9987 - val_mae: 41.4987\n",
            "Epoch 22/100\n",
            "24/24 [==============================] - 3s 108ms/step - loss: 18.4542 - mae: 18.9542 - val_loss: 39.4852 - val_mae: 39.9852\n",
            "Epoch 23/100\n",
            "24/24 [==============================] - 3s 110ms/step - loss: 16.5878 - mae: 17.0878 - val_loss: 37.1524 - val_mae: 37.6524\n",
            "Epoch 24/100\n",
            "24/24 [==============================] - 3s 111ms/step - loss: 13.6238 - mae: 14.1233 - val_loss: 33.2925 - val_mae: 33.7925\n",
            "Epoch 25/100\n",
            "24/24 [==============================] - 3s 108ms/step - loss: 9.3951 - mae: 9.8696 - val_loss: 27.8683 - val_mae: 28.3683\n",
            "Epoch 26/100\n",
            "24/24 [==============================] - 3s 107ms/step - loss: 7.8000 - mae: 8.2944 - val_loss: 25.5118 - val_mae: 26.0118\n",
            "Epoch 27/100\n",
            "24/24 [==============================] - 3s 110ms/step - loss: 7.4754 - mae: 7.9689 - val_loss: 24.4237 - val_mae: 24.9237\n",
            "Epoch 28/100\n",
            "24/24 [==============================] - 3s 108ms/step - loss: 6.9376 - mae: 7.4309 - val_loss: 23.7250 - val_mae: 24.2250\n",
            "Epoch 29/100\n",
            "24/24 [==============================] - 3s 108ms/step - loss: 6.0647 - mae: 6.5476 - val_loss: 23.0042 - val_mae: 23.5042\n",
            "Epoch 30/100\n",
            "24/24 [==============================] - 3s 107ms/step - loss: 4.5766 - mae: 5.0409 - val_loss: 18.8485 - val_mae: 19.3484\n",
            "Epoch 31/100\n",
            "24/24 [==============================] - 3s 108ms/step - loss: 4.6579 - mae: 5.1215 - val_loss: 16.7823 - val_mae: 17.2810\n",
            "Epoch 32/100\n",
            "24/24 [==============================] - 3s 108ms/step - loss: 3.5839 - mae: 4.0474 - val_loss: 13.9194 - val_mae: 14.4155\n",
            "Epoch 33/100\n",
            "24/24 [==============================] - 3s 108ms/step - loss: 1.9639 - mae: 2.3860 - val_loss: 11.4969 - val_mae: 11.9896\n",
            "Epoch 34/100\n",
            "24/24 [==============================] - 3s 107ms/step - loss: 1.8509 - mae: 2.2875 - val_loss: 9.9466 - val_mae: 10.4327\n",
            "Epoch 35/100\n",
            "24/24 [==============================] - 3s 108ms/step - loss: 1.3504 - mae: 1.7626 - val_loss: 9.5131 - val_mae: 10.0060\n",
            "Epoch 36/100\n",
            "24/24 [==============================] - 3s 110ms/step - loss: 1.0427 - mae: 1.4302 - val_loss: 7.5160 - val_mae: 7.9879\n",
            "Epoch 37/100\n",
            "24/24 [==============================] - 3s 110ms/step - loss: 0.9529 - mae: 1.3515 - val_loss: 6.7012 - val_mae: 7.1463\n",
            "Epoch 38/100\n",
            "24/24 [==============================] - 3s 107ms/step - loss: 0.8034 - mae: 1.1871 - val_loss: 6.2168 - val_mae: 6.6616\n",
            "Epoch 39/100\n",
            "24/24 [==============================] - 3s 107ms/step - loss: 0.6748 - mae: 1.0421 - val_loss: 5.8110 - val_mae: 6.2618\n",
            "\n",
            "model memiliki mae dan val_mae < 10% dari skala data\n"
          ],
          "name": "stdout"
        }
      ]
    },
    {
      "cell_type": "code",
      "metadata": {
        "colab": {
          "base_uri": "https://localhost:8080/",
          "height": 294
        },
        "id": "7XfBFPfaM0cK",
        "outputId": "3814e3b9-2c55-4370-bf6c-e1c809a3107c"
      },
      "source": [
        "#plot dari mae\n",
        "plt.plot(history.history['mae'])\n",
        "plt.plot(history.history['val_mae'])\n",
        "plt.title('MAE')\n",
        "plt.ylabel('mae')\n",
        "plt.xlabel('epoch')\n",
        "plt.legend(['train', 'test'], loc='upper right')\n",
        "plt.show()"
      ],
      "execution_count": 12,
      "outputs": [
        {
          "output_type": "display_data",
          "data": {
            "image/png": "[encoded data removed]",
            "text/plain": [
              "<Figure size 432x288 with 1 Axes>"
            ]
          },
          "metadata": {
            "tags": [],
            "needs_background": "light"
          }
        }
      ]
    },
    {
      "cell_type": "code",
      "metadata": {
        "colab": {
          "base_uri": "https://localhost:8080/",
          "height": 294
        },
        "id": "cyLEVbzyM6bY",
        "outputId": "0021ab45-6414-459d-b3ed-9f5da0a50e24"
      },
      "source": [
        "#plot dari loss\n",
        "plt.plot(history.history['loss'])\n",
        "plt.plot(history.history['val_loss'])\n",
        "plt.title('Model Loss')\n",
        "plt.ylabel('loss')\n",
        "plt.xlabel('epoch')\n",
        "plt.legend(['train', 'test'], loc='upper right')\n",
        "plt.show()"
      ],
      "execution_count": 13,
      "outputs": [
        {
          "output_type": "display_data",
          "data": {
            "image/png": "[encoded data removed]",
            "text/plain": [
              "<Figure size 432x288 with 1 Axes>"
            ]
          },
          "metadata": {
            "tags": [],
            "needs_background": "light"
          }
        }
      ]
    }
  ]
}