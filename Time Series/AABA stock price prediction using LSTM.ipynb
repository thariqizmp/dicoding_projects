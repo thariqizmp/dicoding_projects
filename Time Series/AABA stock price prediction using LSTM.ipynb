{
  "nbformat": 4,
  "nbformat_minor": 0,
  "metadata": {
    "colab": {
      "name": "Proyek Kedua_Membuat Model Machine Learning dengan Data Time Series_Thariq Iskandar ZMP.ipynb",
      "provenance": []
    },
    "kernelspec": {
      "name": "python3",
      "display_name": "Python 3"
    },
    "language_info": {
      "name": "python"
    }
  },
  "cells": [
    {
      "cell_type": "markdown",
      "metadata": {
        "id": "Q4tjbwzpyq6S"
      },
      "source": [
        "# **Proyek Kedua : Membuat Model Machine Learning dengan Data Time Series**\n",
        "### Nama : Thariq Iskandar Zulkarnain M P\n",
        "### No. Pendaftaran : 0182180151-57\n",
        "### Email : thariqiskandar9@gmail.com\n",
        "### No. Handphone : 6281332409623\n",
        "### Tema Pelatihan : FGA Machine Learning (IBM)"
      ]
    },
    {
      "cell_type": "code",
      "metadata": {
        "id": "6JS6jwyFx78B"
      },
      "source": [
        "import numpy as np\n",
        "import pandas as pd\n",
        "import matplotlib.pyplot as plt\n",
        "import tensorflow as tf\n",
        "from sklearn.model_selection import train_test_split"
      ],
      "execution_count": 1,
      "outputs": []
    },
    {
      "cell_type": "code",
      "metadata": {
        "id": "MLFMlIudIadn"
      },
      "source": [
        "#membuat kelas callback\n",
        "class myCallback(tf.keras.callbacks.Callback):\n",
        "  def on_epoch_end(self, epoch, logs={}):\n",
        "    if(logs.get('mae') < scale10 and logs.get('val_mae') < scale10):\n",
        "      self.model.stop_training = True\n",
        "      print(\"\\nmodel memiliki mae dan val_mae < 10% dari skala data\")\n",
        "callbacks = myCallback()"
      ],
      "execution_count": 2,
      "outputs": []
    },
    {
      "cell_type": "code",
      "metadata": {
        "colab": {
          "base_uri": "https://localhost:8080/",
          "height": 424
        },
        "id": "J7LmKDSRvsMa",
        "outputId": "2366de94-f7f5-41cf-e16d-01fb6d091c3a"
      },
      "source": [
        "#input dataset harga saham AABA dari tahun 2006 sampai 2018\n",
        "df = pd.read_csv('AABA_2006-01-01_to_2018-01-01.csv')\n",
        "df"
      ],
      "execution_count": 3,
      "outputs": [
        {
          "output_type": "execute_result",
          "data": {
            "text/html": [
              "<div>\n",
              "<style scoped>\n",
              "    .dataframe tbody tr th:only-of-type {\n",
              "        vertical-align: middle;\n",
              "    }\n",
              "\n",
              "    .dataframe tbody tr th {\n",
              "        vertical-align: top;\n",
              "    }\n",
              "\n",
              "    .dataframe thead th {\n",
              "        text-align: right;\n",
              "    }\n",
              "</style>\n",
              "<table border=\"1\" class=\"dataframe\">\n",
              "  <thead>\n",
              "    <tr style=\"text-align: right;\">\n",
              "      <th></th>\n",
              "      <th>Date</th>\n",
              "      <th>Open</th>\n",
              "      <th>High</th>\n",
              "      <th>Low</th>\n",
              "      <th>Close</th>\n",
              "      <th>Volume</th>\n",
              "      <th>Name</th>\n",
              "    </tr>\n",
              "  </thead>\n",
              "  <tbody>\n",
              "    <tr>\n",
              "      <th>0</th>\n",
              "      <td>2006-01-03</td>\n",
              "      <td>39.69</td>\n",
              "      <td>41.22</td>\n",
              "      <td>38.79</td>\n",
              "      <td>40.91</td>\n",
              "      <td>24232729</td>\n",
              "      <td>AABA</td>\n",
              "    </tr>\n",
              "    <tr>\n",
              "      <th>1</th>\n",
              "      <td>2006-01-04</td>\n",
              "      <td>41.22</td>\n",
              "      <td>41.90</td>\n",
              "      <td>40.77</td>\n",
              "      <td>40.97</td>\n",
              "      <td>20553479</td>\n",
              "      <td>AABA</td>\n",
              "    </tr>\n",
              "    <tr>\n",
              "      <th>2</th>\n",
              "      <td>2006-01-05</td>\n",
              "      <td>40.93</td>\n",
              "      <td>41.73</td>\n",
              "      <td>40.85</td>\n",
              "      <td>41.53</td>\n",
              "      <td>12829610</td>\n",
              "      <td>AABA</td>\n",
              "    </tr>\n",
              "    <tr>\n",
              "      <th>3</th>\n",
              "      <td>2006-01-06</td>\n",
              "      <td>42.88</td>\n",
              "      <td>43.57</td>\n",
              "      <td>42.80</td>\n",
              "      <td>43.21</td>\n",
              "      <td>29422828</td>\n",
              "      <td>AABA</td>\n",
              "    </tr>\n",
              "    <tr>\n",
              "      <th>4</th>\n",
              "      <td>2006-01-09</td>\n",
              "      <td>43.10</td>\n",
              "      <td>43.66</td>\n",
              "      <td>42.82</td>\n",
              "      <td>43.42</td>\n",
              "      <td>16268338</td>\n",
              "      <td>AABA</td>\n",
              "    </tr>\n",
              "    <tr>\n",
              "      <th>...</th>\n",
              "      <td>...</td>\n",
              "      <td>...</td>\n",
              "      <td>...</td>\n",
              "      <td>...</td>\n",
              "      <td>...</td>\n",
              "      <td>...</td>\n",
              "      <td>...</td>\n",
              "    </tr>\n",
              "    <tr>\n",
              "      <th>3014</th>\n",
              "      <td>2017-12-22</td>\n",
              "      <td>71.42</td>\n",
              "      <td>71.87</td>\n",
              "      <td>71.22</td>\n",
              "      <td>71.58</td>\n",
              "      <td>10979165</td>\n",
              "      <td>AABA</td>\n",
              "    </tr>\n",
              "    <tr>\n",
              "      <th>3015</th>\n",
              "      <td>2017-12-26</td>\n",
              "      <td>70.94</td>\n",
              "      <td>71.39</td>\n",
              "      <td>69.63</td>\n",
              "      <td>69.86</td>\n",
              "      <td>8542802</td>\n",
              "      <td>AABA</td>\n",
              "    </tr>\n",
              "    <tr>\n",
              "      <th>3016</th>\n",
              "      <td>2017-12-27</td>\n",
              "      <td>69.77</td>\n",
              "      <td>70.49</td>\n",
              "      <td>69.69</td>\n",
              "      <td>70.06</td>\n",
              "      <td>6345124</td>\n",
              "      <td>AABA</td>\n",
              "    </tr>\n",
              "    <tr>\n",
              "      <th>3017</th>\n",
              "      <td>2017-12-28</td>\n",
              "      <td>70.12</td>\n",
              "      <td>70.32</td>\n",
              "      <td>69.51</td>\n",
              "      <td>69.82</td>\n",
              "      <td>7556877</td>\n",
              "      <td>AABA</td>\n",
              "    </tr>\n",
              "    <tr>\n",
              "      <th>3018</th>\n",
              "      <td>2017-12-29</td>\n",
              "      <td>69.79</td>\n",
              "      <td>70.13</td>\n",
              "      <td>69.43</td>\n",
              "      <td>69.85</td>\n",
              "      <td>6613070</td>\n",
              "      <td>AABA</td>\n",
              "    </tr>\n",
              "  </tbody>\n",
              "</table>\n",
              "<p>3019 rows × 7 columns</p>\n",
              "</div>"
            ],
            "text/plain": [
              "            Date   Open   High    Low  Close    Volume  Name\n",
              "0     2006-01-03  39.69  41.22  38.79  40.91  24232729  AABA\n",
              "1     2006-01-04  41.22  41.90  40.77  40.97  20553479  AABA\n",
              "2     2006-01-05  40.93  41.73  40.85  41.53  12829610  AABA\n",
              "3     2006-01-06  42.88  43.57  42.80  43.21  29422828  AABA\n",
              "4     2006-01-09  43.10  43.66  42.82  43.42  16268338  AABA\n",
              "...          ...    ...    ...    ...    ...       ...   ...\n",
              "3014  2017-12-22  71.42  71.87  71.22  71.58  10979165  AABA\n",
              "3015  2017-12-26  70.94  71.39  69.63  69.86   8542802  AABA\n",
              "3016  2017-12-27  69.77  70.49  69.69  70.06   6345124  AABA\n",
              "3017  2017-12-28  70.12  70.32  69.51  69.82   7556877  AABA\n",
              "3018  2017-12-29  69.79  70.13  69.43  69.85   6613070  AABA\n",
              "\n",
              "[3019 rows x 7 columns]"
            ]
          },
          "metadata": {
            "tags": []
          },
          "execution_count": 3
        }
      ]
    },
    {
      "cell_type": "code",
      "metadata": {
        "colab": {
          "base_uri": "https://localhost:8080/"
        },
        "id": "hyljEE3cwg6z",
        "outputId": "98855a25-f529-46fd-a029-7f73c0f27b4f"
      },
      "source": [
        "#meilhat apakah ada data yang hilang dari dataset\n",
        "df.isnull().sum()"
      ],
      "execution_count": 4,
      "outputs": [
        {
          "output_type": "execute_result",
          "data": {
            "text/plain": [
              "Date      0\n",
              "Open      0\n",
              "High      0\n",
              "Low       0\n",
              "Close     0\n",
              "Volume    0\n",
              "Name      0\n",
              "dtype: int64"
            ]
          },
          "metadata": {
            "tags": []
          },
          "execution_count": 4
        }
      ]
    },
    {
      "cell_type": "code",
      "metadata": {
        "colab": {
          "base_uri": "https://localhost:8080/",
          "height": 341
        },
        "id": "kJTbgmITwnqT",
        "outputId": "36324415-e91e-43f6-e514-a6ea2bbdaa23"
      },
      "source": [
        "date = df['Date'].values\n",
        "close  = df['Close'].values #pada kasus ini digunakan harga penutupan / close price\n",
        " \n",
        "#membuat plot dari data \n",
        "plt.figure(figsize=(15,5))\n",
        "plt.plot(date, close)\n",
        "plt.title('Close Price',\n",
        "          fontsize=20);"
      ],
      "execution_count": 5,
      "outputs": [
        {
          "output_type": "display_data",
          "data": {
            "image/png": "[encoded data removed]",
            "text/plain": [
              "<Figure size 1080x360 with 1 Axes>"
            ]
          },
          "metadata": {
            "tags": [],
            "needs_background": "light"
          }
        }
      ]
    },
    {
      "cell_type": "code",
      "metadata": {
        "id": "tMxdESkoEEBw"
      },
      "source": [
        "#membuat fungsi window\n",
        "def windowed_dataset(series, window_size, batch_size, shuffle_buffer):\n",
        "    series = tf.expand_dims(series, axis=-1)\n",
        "    ds = tf.data.Dataset.from_tensor_slices(series)\n",
        "    ds = ds.window(window_size + 1, shift=1, drop_remainder=True)\n",
        "    ds = ds.flat_map(lambda w: w.batch(window_size + 1))\n",
        "    ds = ds.shuffle(shuffle_buffer)\n",
        "    ds = ds.map(lambda w: (w[:-1], w[-1:]))\n",
        "    return ds.batch(batch_size).prefetch(1)"
      ],
      "execution_count": 6,
      "outputs": []
    },
    {
      "cell_type": "code",
      "metadata": {
        "id": "WxhDiEyFF2Zp"
      },
      "source": [
        "#split dataset dengan ratio 80:20\n",
        "close_train, close_test, date_train, date_test = train_test_split(close, date, test_size = 0.2, random_state = 0 , shuffle=False)"
      ],
      "execution_count": 7,
      "outputs": []
    },
    {
      "cell_type": "code",
      "metadata": {
        "id": "7hNquPeYHFRY"
      },
      "source": [
        "#memanggil fungsi window untuk membagi data menjadi atribut dan label\n",
        "data_close_train = windowed_dataset(close_train, window_size=60, batch_size=100, shuffle_buffer=5000)\n",
        "data_close_test = windowed_dataset(close_test, window_size=60, batch_size=100, shuffle_buffer=5000)"
      ],
      "execution_count": 8,
      "outputs": []
    },
    {
      "cell_type": "code",
      "metadata": {
        "id": "3vGgo1QsHWbl"
      },
      "source": [
        "#membangun arsitektur neural network\n",
        "model = tf.keras.models.Sequential([\n",
        "  tf.keras.layers.LSTM(60, return_sequences=True),\n",
        "  tf.keras.layers.LSTM(60),\n",
        "  tf.keras.layers.Dense(30, activation=\"relu\"),\n",
        "  tf.keras.layers.Dense(10, activation=\"relu\"),\n",
        "  tf.keras.layers.Dense(1),\n",
        "])"
      ],
      "execution_count": 9,
      "outputs": []
    },
    {
      "cell_type": "code",
      "metadata": {
        "colab": {
          "base_uri": "https://localhost:8080/"
        },
        "id": "Fw6QxzwBJjC6",
        "outputId": "dab05ecf-5cbc-4218-b575-4d0914b941ee"
      },
      "source": [
        "#menentukan batas nilai 10% dari skala data untuk parameter callback\n",
        "scale10 = (close.max() - close.min()) * (10 / 100)\n",
        "print(scale10)"
      ],
      "execution_count": 10,
      "outputs": [
        {
          "output_type": "stream",
          "text": [
            "6.398000000000001\n"
          ],
          "name": "stdout"
        }
      ]
    },
    {
      "cell_type": "code",
      "metadata": {
        "colab": {
          "base_uri": "https://localhost:8080/"
        },
        "id": "P0v7pxaaHy4G",
        "outputId": "12664cd2-aa42-468f-d054-72db9b37603c"
      },
      "source": [
        "#menggunakan parameter learning rate dan momentum pada optimizer\n",
        "optimizer = tf.keras.optimizers.SGD(learning_rate=1.0000e-04, momentum=0.9)\n",
        "\n",
        "#melakukan compile pada model\n",
        "model.compile(loss=tf.keras.losses.Huber(),\n",
        "              optimizer=optimizer,\n",
        "              metrics=[\"mae\"])\n",
        "\n",
        "#latih model dengan jumlah epoch 100\n",
        "history = model.fit(data_close_train,\n",
        "                    epochs=100, \n",
        "                    validation_data=data_close_test, \n",
        "                    callbacks=[callbacks])"
      ],
      "execution_count": 11,
      "outputs": [
        {
          "output_type": "stream",
          "text": [
            "Epoch 1/100\n",
            "24/24 [==============================] - 8s 172ms/step - loss: 23.5296 - mae: 24.0296 - val_loss: 45.4327 - val_mae: 45.9327\n",
            "Epoch 2/100\n",
            "24/24 [==============================] - 3s 112ms/step - loss: 23.4612 - mae: 23.9612 - val_loss: 45.3602 - val_mae: 45.8602\n",
            "Epoch 3/100\n",
            "24/24 [==============================] - 3s 112ms/step - loss: 23.3794 - mae: 23.8794 - val_loss: 45.2569 - val_mae: 45.7569\n",
            "Epoch 4/100\n",
            "24/24 [==============================] - 3s 110ms/step - loss: 23.2713 - mae: 23.7713 - val_loss: 45.1428 - val_mae: 45.6428\n",
            "Epoch 5/100\n",
            "24/24 [==============================] - 3s 110ms/step - loss: 23.1448 - mae: 23.6448 - val_loss: 45.0035 - val_mae: 45.5035\n",
            "Epoch 6/100\n",
            "24/24 [==============================] - 3s 110ms/step - loss: 22.9844 - mae: 23.4844 - val_loss: 44.8200 - val_mae: 45.3200\n",
            "Epoch 7/100\n",
            "24/24 [==============================] - 3s 109ms/step - loss: 22.7738 - mae: 23.2738 - val_loss: 44.5741 - val_mae: 45.0741\n",
            "Epoch 8/100\n",
            "24/24 [==============================] - 3s 112ms/step - loss: 22.5046 - mae: 23.0046 - val_loss: 44.2599 - val_mae: 44.7599\n",
            "Epoch 9/100\n",
            "24/24 [==============================] - 3s 109ms/step - loss: 22.1540 - mae: 22.6540 - val_loss: 43.8422 - val_mae: 44.3422\n",
            "Epoch 10/100\n",
            "24/24 [==============================] - 3s 112ms/step - loss: 21.6920 - mae: 22.1920 - val_loss: 43.2897 - val_mae: 43.7897\n",
            "Epoch 11/100\n",
            "24/24 [==============================] - 3s 110ms/step - loss: 21.0721 - mae: 21.5721 - val_loss: 42.5431 - val_mae: 43.0431\n",
            "Epoch 12/100\n",
            "24/24 [==============================] - 3s 113ms/step - loss: 20.2144 - mae: 20.7144 - val_loss: 41.4962 - val_mae: 41.9962\n",
            "Epoch 13/100\n",
            "24/24 [==============================] - 3s 115ms/step - loss: 18.9833 - mae: 19.4833 - val_loss: 39.9664 - val_mae: 40.4664\n",
            "Epoch 14/100\n",
            "24/24 [==============================] - 3s 112ms/step - loss: 17.1346 - mae: 17.6346 - val_loss: 37.6213 - val_mae: 38.1213\n",
            "Epoch 15/100\n",
            "24/24 [==============================] - 3s 110ms/step - loss: 14.2067 - mae: 14.7062 - val_loss: 33.8061 - val_mae: 34.3061\n",
            "Epoch 16/100\n",
            "24/24 [==============================] - 3s 113ms/step - loss: 9.8176 - mae: 10.2928 - val_loss: 28.1685 - val_mae: 28.6685\n",
            "Epoch 17/100\n",
            "24/24 [==============================] - 3s 113ms/step - loss: 7.8148 - mae: 8.3060 - val_loss: 25.5039 - val_mae: 26.0039\n",
            "Epoch 18/100\n",
            "24/24 [==============================] - 3s 112ms/step - loss: 7.6097 - mae: 8.1034 - val_loss: 24.6593 - val_mae: 25.1593\n",
            "Epoch 19/100\n",
            "24/24 [==============================] - 5s 185ms/step - loss: 7.3716 - mae: 7.8664 - val_loss: 23.9839 - val_mae: 24.4839\n",
            "Epoch 20/100\n",
            "24/24 [==============================] - 3s 112ms/step - loss: 6.4202 - mae: 6.9089 - val_loss: 23.1456 - val_mae: 23.6456\n",
            "Epoch 21/100\n",
            "24/24 [==============================] - 3s 115ms/step - loss: 5.3050 - mae: 5.7583 - val_loss: 19.9258 - val_mae: 20.4258\n",
            "Epoch 22/100\n",
            "24/24 [==============================] - 3s 112ms/step - loss: 6.0325 - mae: 6.5224 - val_loss: 18.7302 - val_mae: 19.2302\n",
            "Epoch 23/100\n",
            "24/24 [==============================] - 3s 110ms/step - loss: 3.2980 - mae: 3.7398 - val_loss: 15.5868 - val_mae: 16.0812\n",
            "Epoch 24/100\n",
            "24/24 [==============================] - 3s 110ms/step - loss: 2.1569 - mae: 2.5638 - val_loss: 12.2759 - val_mae: 12.7715\n",
            "Epoch 25/100\n",
            "24/24 [==============================] - 3s 109ms/step - loss: 1.4372 - mae: 1.8296 - val_loss: 9.4737 - val_mae: 9.9529\n",
            "Epoch 26/100\n",
            "24/24 [==============================] - 3s 111ms/step - loss: 1.0867 - mae: 1.4753 - val_loss: 8.3274 - val_mae: 8.8131\n",
            "Epoch 27/100\n",
            "24/24 [==============================] - 3s 111ms/step - loss: 0.9437 - mae: 1.3333 - val_loss: 7.1390 - val_mae: 7.5927\n",
            "Epoch 28/100\n",
            "24/24 [==============================] - 3s 109ms/step - loss: 0.8014 - mae: 1.1794 - val_loss: 6.7280 - val_mae: 7.1933\n",
            "Epoch 29/100\n",
            "24/24 [==============================] - 3s 110ms/step - loss: 0.8787 - mae: 1.2716 - val_loss: 6.3473 - val_mae: 6.8073\n",
            "Epoch 30/100\n",
            "24/24 [==============================] - 3s 109ms/step - loss: 0.8421 - mae: 1.2317 - val_loss: 6.0330 - val_mae: 6.4887\n",
            "Epoch 31/100\n",
            "24/24 [==============================] - 3s 107ms/step - loss: 0.7001 - mae: 1.0732 - val_loss: 5.7540 - val_mae: 6.2207\n",
            "\n",
            "model memiliki mae dan val_mae < 10% dari skala data\n"
          ],
          "name": "stdout"
        }
      ]
    },
    {
      "cell_type": "code",
      "metadata": {
        "colab": {
          "base_uri": "https://localhost:8080/",
          "height": 294
        },
        "id": "7XfBFPfaM0cK",
        "outputId": "a24effe3-bc3a-47eb-dff7-66c61f8de348"
      },
      "source": [
        "#plot dari mae\n",
        "plt.plot(history.history['mae'])\n",
        "plt.plot(history.history['val_mae'])\n",
        "plt.title('MAE')\n",
        "plt.ylabel('mae')\n",
        "plt.xlabel('epoch')\n",
        "plt.legend(['train', 'test'], loc='upper right')\n",
        "plt.show()"
      ],
      "execution_count": 12,
      "outputs": [
        {
          "output_type": "display_data",
          "data": {
            "image/png": "[encoded data removed]",
            "text/plain": [
              "<Figure size 432x288 with 1 Axes>"
            ]
          },
          "metadata": {
            "tags": [],
            "needs_background": "light"
          }
        }
      ]
    },
    {
      "cell_type": "code",
      "metadata": {
        "colab": {
          "base_uri": "https://localhost:8080/",
          "height": 294
        },
        "id": "cyLEVbzyM6bY",
        "outputId": "f85e6fa0-ac47-4406-b5de-43d311887f4a"
      },
      "source": [
        "#plot dari loss\n",
        "plt.plot(history.history['loss'])\n",
        "plt.plot(history.history['val_loss'])\n",
        "plt.title('Model Loss')\n",
        "plt.ylabel('loss')\n",
        "plt.xlabel('epoch')\n",
        "plt.legend(['train', 'test'], loc='upper right')\n",
        "plt.show()"
      ],
      "execution_count": 13,
      "outputs": [
        {
          "output_type": "display_data",
          "data": {
            "image/png": "[encoded data removed]",
            "text/plain": [
              "<Figure size 432x288 with 1 Axes>"
            ]
          },
          "metadata": {
            "tags": [],
            "needs_background": "light"
          }
        }
      ]
    }
  ]
}